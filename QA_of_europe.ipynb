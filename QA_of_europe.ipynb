{
 "cells": [
  {
   "cell_type": "code",
   "execution_count": 1,
   "id": "022b00da-3123-4747-9ce1-e2c39be41200",
   "metadata": {},
   "outputs": [
    {
     "name": "stdout",
     "output_type": "stream",
     "text": [
      "    Year         Country  GDP (billion USD)  Population (millions)\n",
      "0   2013         Germany         422.162280                     17\n",
      "1   2013          France         115.073831                     52\n",
      "2   2013  United Kingdom         131.836197                     36\n",
      "3   2013           Italy         384.653424                     54\n",
      "4   2013           Spain         293.657351                     76\n",
      "..   ...             ...                ...                    ...\n",
      "65  2022  United Kingdom         461.531827                     79\n",
      "66  2022           Italy         201.955872                     51\n",
      "67  2022           Spain         440.230031                     53\n",
      "68  2022     Netherlands         342.339651                     52\n",
      "69  2022          Sweden         373.667110                     81\n",
      "\n",
      "[70 rows x 4 columns]\n"
     ]
    }
   ],
   "source": [
    "import pandas as pd\n",
    "import numpy as np\n",
    "\n",
    "# Load the data from the pickle file\n",
    "df = pd.read_pickle('european_data.pkl')\n",
    "print(df)"
   ]
  },
  {
   "cell_type": "code",
   "execution_count": null,
   "id": "f402907c-4574-433e-8e9b-82d4c4dada27",
   "metadata": {},
   "outputs": [],
   "source": []
  }
 ],
 "metadata": {
  "kernelspec": {
   "display_name": "Python 3 (ipykernel)",
   "language": "python",
   "name": "python3"
  },
  "language_info": {
   "codemirror_mode": {
    "name": "ipython",
    "version": 3
   },
   "file_extension": ".py",
   "mimetype": "text/x-python",
   "name": "python",
   "nbconvert_exporter": "python",
   "pygments_lexer": "ipython3",
   "version": "3.10.9"
  }
 },
 "nbformat": 4,
 "nbformat_minor": 5
}
