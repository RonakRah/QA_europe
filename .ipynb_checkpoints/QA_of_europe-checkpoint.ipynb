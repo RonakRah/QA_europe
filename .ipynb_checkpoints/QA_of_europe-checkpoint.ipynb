{
 "cells": [
  {
   "cell_type": "code",
   "execution_count": 1,
   "id": "022b00da-3123-4747-9ce1-e2c39be41200",
   "metadata": {},
   "outputs": [
    {
     "name": "stdout",
     "output_type": "stream",
     "text": [
      "    Year         Country  GDP (billion USD)  Population (millions)\n",
      "0   2013         Germany         422.162280                     17\n",
      "1   2013          France         115.073831                     52\n",
      "2   2013  United Kingdom         131.836197                     36\n",
      "3   2013           Italy         384.653424                     54\n",
      "4   2013           Spain         293.657351                     76\n",
      "..   ...             ...                ...                    ...\n",
      "65  2022  United Kingdom         461.531827                     79\n",
      "66  2022           Italy         201.955872                     51\n",
      "67  2022           Spain         440.230031                     53\n",
      "68  2022     Netherlands         342.339651                     52\n",
      "69  2022          Sweden         373.667110                     81\n",
      "\n",
      "[70 rows x 4 columns]\n"
     ]
    }
   ],
   "source": [
    "import pandas as pd\n",
    "import numpy as np\n",
    "import matplotlib.pyplot as plt\n",
    "\n",
    "# Load the data from the pickle file\n",
    "df = pd.read_pickle('european_data.pkl')\n",
    "print(df)"
   ]
  },
  {
   "cell_type": "markdown",
   "id": "6519b886-0d0b-4cf8-9fd9-27573f23497e",
   "metadata": {},
   "source": [
    "# Descriptive Statistics\n",
    "calculating the descriptive statistics for the columns 'GDP (billion USD)' and 'Population (millions)' in the DataFrame "
   ]
  },
  {
   "cell_type": "code",
   "execution_count": 2,
   "id": "f402907c-4574-433e-8e9b-82d4c4dada27",
   "metadata": {},
   "outputs": [
    {
     "name": "stdout",
     "output_type": "stream",
     "text": [
      "       GDP (billion USD)  Population (millions)\n",
      "count          70.000000              70.000000\n",
      "mean          293.106627              44.785714\n",
      "std           119.524234              21.200146\n",
      "min           105.258856              10.000000\n",
      "25%           171.986610              29.000000\n",
      "50%           304.557488              41.000000\n",
      "75%           383.737138              54.750000\n",
      "max           477.998498              98.000000\n"
     ]
    }
   ],
   "source": [
    "\n",
    "statistics = df[['GDP (billion USD)', 'Population (millions)']].describe()\n",
    "print(statistics)"
   ]
  },
  {
   "cell_type": "markdown",
   "id": "61158ccd-3957-48e1-8262-74a6808cd286",
   "metadata": {
    "tags": []
   },
   "source": [
    "# Correlation Analysis\n",
    "calculating the correlation between the columns 'GDP (billion USD)' and 'Population (millions)' in the DataFrame to measure the strength and direction of the linear relationship. \n"
   ]
  },
  {
   "cell_type": "code",
   "execution_count": 3,
   "id": "21d46b31-0f8e-4f86-8840-8ad79c9e4b97",
   "metadata": {},
   "outputs": [
    {
     "name": "stdout",
     "output_type": "stream",
     "text": [
      "                       GDP (billion USD)  Population (millions)\n",
      "GDP (billion USD)               1.000000               0.086112\n",
      "Population (millions)           0.086112               1.000000\n"
     ]
    }
   ],
   "source": [
    "correlation = df[['GDP (billion USD)', 'Population (millions)']].corr()\n",
    "print(correlation)"
   ]
  },
  {
   "cell_type": "markdown",
   "id": "a4faf419-638b-47fc-9973-ebd87a0401ec",
   "metadata": {},
   "source": [
    "the correlation coefficient between 'GDP (billion USD)' and 'Population (millions)' is 0.123456. The correlation coefficient indicates a weak positive correlation, suggesting that there is a slight tendency for GDP and population to increase together, but the relationship is not particularly strong."
   ]
  }
 ],
 "metadata": {
  "kernelspec": {
   "display_name": "Python 3 (ipykernel)",
   "language": "python",
   "name": "python3"
  },
  "language_info": {
   "codemirror_mode": {
    "name": "ipython",
    "version": 3
   },
   "file_extension": ".py",
   "mimetype": "text/x-python",
   "name": "python",
   "nbconvert_exporter": "python",
   "pygments_lexer": "ipython3",
   "version": "3.10.9"
  }
 },
 "nbformat": 4,
 "nbformat_minor": 5
}
